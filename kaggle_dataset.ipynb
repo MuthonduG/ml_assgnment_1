{
 "cells": [
  {
   "cell_type": "code",
   "execution_count": 56,
   "id": "017cb263-c7bf-48e2-8d5c-b1147c364ceb",
   "metadata": {},
   "outputs": [
    {
     "name": "stdout",
     "output_type": "stream",
     "text": [
      "Classifier training accuracy: 0.8094457199081666\n",
      "Classifier test accuracy: 0.789559395639193\n",
      "Regressor training R² score: 0.16507655767769613\n",
      "Regressor test R² score: -0.3052422249933868\n",
      "Predictions (Classifier): [0 1 0 0 0 0 0 0 0 0]\n",
      "Predictions (Regressor): [0.  1.  0.5 0.5 0.  0.  0.  0.  0.  0.5]\n"
     ]
    }
   ],
   "source": [
    "import os\n",
    "import kagglehub\n",
    "import pandas as pd\n",
    "import numpy as np\n",
    "from sklearn.model_selection import train_test_split\n",
    "from sklearn.neighbors import KNeighborsClassifier, KNeighborsRegressor\n",
    "\n",
    "# Setup\n",
    "curr_dir = os.getcwd()\n",
    "data_path = os.path.join(curr_dir, \"data\")\n",
    "os.makedirs(data_path, exist_ok=True)\n",
    "\n",
    "# Download dataset\n",
    "dataset_path = kagglehub.dataset_download(\"joniarroba/noshowappointments\")\n",
    "csv_file = os.path.join(dataset_path, \"KaggleV2-May-2016.csv\")\n",
    "\n",
    "# Load data\n",
    "df = pd.read_csv(csv_file)\n",
    "\n",
    "# Convert categorical columns\n",
    "df[\"Gender\"] = df[\"Gender\"].map({\"F\": 0, \"M\": 1})\n",
    "df[\"No-show\"] = df[\"No-show\"].map({\"Yes\": 1, \"No\": 0})\n",
    "\n",
    "# Convert dates and add derived feature\n",
    "df['ScheduledDay'] = pd.to_datetime(df['ScheduledDay'])\n",
    "df['AppointmentDay'] = pd.to_datetime(df['AppointmentDay'])\n",
    "df['DaysUntilAppointment'] = (df['AppointmentDay'] - df['ScheduledDay']).dt.days\n",
    "\n",
    "# Select features\n",
    "features = [\n",
    "    'Gender',\n",
    "    'Age',\n",
    "    'Scholarship',\n",
    "    'Hipertension',\n",
    "    'Diabetes',\n",
    "    'Alcoholism',\n",
    "    'Handcap',\n",
    "    'SMS_received',\n",
    "    'DaysUntilAppointment'\n",
    "]\n",
    "\n",
    "# Split data\n",
    "X_train, X_test, y_train, y_test = train_test_split(\n",
    "    df[features], df[\"No-show\"], test_size=0.2, random_state=42, stratify=df[\"No-show\"]\n",
    ")\n",
    "\n",
    "# Train models\n",
    "knn_classifier = KNeighborsClassifier(n_neighbors=10).fit(X_train, y_train)\n",
    "knn_regressor = KNeighborsRegressor(n_neighbors=2).fit(X_train, y_train)\n",
    "\n",
    "# Evaluate models\n",
    "print(\"Classifier training accuracy:\", knn_classifier.score(X_train, y_train))\n",
    "print(\"Classifier test accuracy:\", knn_classifier.score(X_test, y_test))\n",
    "\n",
    "print(\"Regressor training R² score:\", knn_regressor.score(X_train, y_train))\n",
    "print(\"Regressor test R² score:\", knn_regressor.score(X_test, y_test))\n",
    "\n",
    "# Make predictions (fixed)\n",
    "y_classifier_pred = knn_classifier.predict(X_test)\n",
    "y_regressor_pred = knn_regressor.predict(X_test)\n",
    "\n",
    "print(\"Predictions (Classifier):\", y_classifier_pred[:10])\n",
    "print(\"Predictions (Regressor):\", y_regressor_pred[:10])\n"
   ]
  },
  {
   "cell_type": "code",
   "execution_count": null,
   "id": "dd947271-0f37-46d4-8e3c-dc066a9dbbaf",
   "metadata": {},
   "outputs": [],
   "source": []
  }
 ],
 "metadata": {
  "kernelspec": {
   "display_name": "Python 3 (ipykernel)",
   "language": "python",
   "name": "python3"
  },
  "language_info": {
   "codemirror_mode": {
    "name": "ipython",
    "version": 3
   },
   "file_extension": ".py",
   "mimetype": "text/x-python",
   "name": "python",
   "nbconvert_exporter": "python",
   "pygments_lexer": "ipython3",
   "version": "3.11.2"
  }
 },
 "nbformat": 4,
 "nbformat_minor": 5
}
